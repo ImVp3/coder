{
 "cells": [
  {
   "cell_type": "code",
   "execution_count": 1,
   "metadata": {},
   "outputs": [
    {
     "data": {
      "text/plain": [
       "True"
      ]
     },
     "execution_count": 1,
     "metadata": {},
     "output_type": "execute_result"
    }
   ],
   "source": [
    "from dotenv import load_dotenv, find_dotenv\n",
    "import sys\n",
    "import os\n",
    "\n",
    "load_dotenv(find_dotenv())"
   ]
  },
  {
   "cell_type": "code",
   "execution_count": 2,
   "metadata": {},
   "outputs": [],
   "source": [
    "import os\n",
    "import sys\n",
    "\n",
    "current_dir = os.getcwd()\n",
    "sys.path.append(\"A:/Code/coder\")\n"
   ]
  },
  {
   "cell_type": "code",
   "execution_count": 3,
   "metadata": {},
   "outputs": [
    {
     "name": "stderr",
     "output_type": "stream",
     "text": [
      "a:\\Code\\coder\\venv\\Lib\\site-packages\\tqdm\\auto.py:21: TqdmWarning: IProgress not found. Please update jupyter and ipywidgets. See https://ipywidgets.readthedocs.io/en/stable/user_install.html\n",
      "  from .autonotebook import tqdm as notebook_tqdm\n"
     ]
    }
   ],
   "source": [
    "from ui.interface import ChatUI  \n",
    "from src.ui.interface import ChatUI\n",
    "from src.core.vector_database import * \n",
    "\n",
    "vector_database = VectorStore(\n",
    "    persistent_path= \"A:/Code/coder/data/chromadb\",\n",
    "    collection_name=\"test\"\n",
    ") "
   ]
  },
  {
   "cell_type": "code",
   "execution_count": 4,
   "metadata": {},
   "outputs": [
    {
     "data": {
      "text/plain": [
       "<src.core.graph.CodeGenGraph at 0x26f05499550>"
      ]
     },
     "execution_count": 4,
     "metadata": {},
     "output_type": "execute_result"
    }
   ],
   "source": [
    "from src.core.graph import CodeGenGraph\n",
    "\n",
    "graph = CodeGenGraph(model= \"gemini-2.0-flash\", temperature= 0.0)\n",
    "graph"
   ]
  },
  {
   "cell_type": "code",
   "execution_count": 8,
   "metadata": {},
   "outputs": [
    {
     "data": {
      "text/plain": [
       "{'messages': [HumanMessage(content='write a function to calculate the sum of two numbers', additional_kwargs={}, response_metadata={}, id='ac226fe0-6f2e-4a18-a48f-e66f97370357'),\n",
       "  AIMessage(content='This function calculates the sum of two numbers \\n Imports:  \\n Code: def sum(a, b):\\n  return a + b', additional_kwargs={}, response_metadata={}, id='56ddd6c3-60d5-4626-81e9-ef808f48e108'),\n",
       "  AIMessage(content='This function calculates the sum of two numbers \\n Imports:  \\n Code: def sum(a, b):\\n  return a + b', additional_kwargs={}, response_metadata={}, id='0c92ff32-8c71-4acc-bb32-1ff803d49a7e')],\n",
       " 'error': False,\n",
       " 'generation': [Code(prefix='This function calculates the sum of two numbers', imports='', code='def sum(a, b):\\n  return a + b')],\n",
       " 'iterations': 1,\n",
       " 'documentation': [],\n",
       " 'flow': ['START', 'Generate', 'Code Check: Passed']}"
      ]
     },
     "execution_count": 8,
     "metadata": {},
     "output_type": "execute_result"
    }
   ],
   "source": [
    "output = graph.run(\"write a function to calculate the sum of two numbers\")\n",
    "output"
   ]
  },
  {
   "cell_type": "code",
   "execution_count": 9,
   "metadata": {},
   "outputs": [
    {
     "data": {
      "text/plain": [
       "Code(prefix='This function calculates the sum of two numbers', imports='', code='def sum(a, b):\\n  return a + b')"
      ]
     },
     "execution_count": 9,
     "metadata": {},
     "output_type": "execute_result"
    }
   ],
   "source": [
    "output[\"generation\"][-1]"
   ]
  },
  {
   "cell_type": "code",
   "execution_count": 13,
   "metadata": {},
   "outputs": [
    {
     "name": "stdout",
     "output_type": "stream",
     "text": [
      "This function calculates the sum of two numbers\n",
      "\n",
      "def sum(a, b):\n",
      "  return a + b\n"
     ]
    }
   ],
   "source": [
    "def parse_code_generation (code_generation):\n",
    "    code = code_generation.code\n",
    "    imports = code_generation.imports\n",
    "    prefix = code_generation.prefix\n",
    "    res = f\"{prefix}\\n{imports}\\n{code}\"\n",
    "    return res \n",
    "\n",
    "print( parse_code_generation(output[\"generation\"][-1]))\n"
   ]
  },
  {
   "cell_type": "code",
   "execution_count": null,
   "metadata": {},
   "outputs": [],
   "source": []
  },
  {
   "cell_type": "code",
   "execution_count": 6,
   "metadata": {},
   "outputs": [
    {
     "name": "stdout",
     "output_type": "stream",
     "text": [
      "{'messages': [HumanMessage(content='write a function to calculate the sum of two numbers', additional_kwargs={}, response_metadata={}, id='b915c540-7a90-4f99-88d4-382fccc67ebb')], 'error': False, 'generation': [], 'iterations': 0, 'documentation': [], 'flow': ['START']}\n",
      "{'messages': [HumanMessage(content='write a function to calculate the sum of two numbers', additional_kwargs={}, response_metadata={}, id='b915c540-7a90-4f99-88d4-382fccc67ebb'), AIMessage(content='This function calculates the sum of two numbers \\n Imports:  \\n Code: def sum(a, b):\\n  return a + b', additional_kwargs={}, response_metadata={}, id='6eb3fb23-4400-4eb3-a6bc-9c1e22c44360'), AIMessage(content='This function calculates the sum of two numbers \\n Imports:  \\n Code: def sum(a, b):\\n  return a + b', additional_kwargs={}, response_metadata={}, id='d6c8bf4e-ff38-45f4-8623-8b0bbc47457b')], 'error': False, 'generation': [Code(prefix='This function calculates the sum of two numbers', imports='', code='def sum(a, b):\\n  return a + b')], 'iterations': 1, 'documentation': [], 'flow': ['START', 'Generate']}\n",
      "{'messages': [HumanMessage(content='write a function to calculate the sum of two numbers', additional_kwargs={}, response_metadata={}, id='b915c540-7a90-4f99-88d4-382fccc67ebb'), AIMessage(content='This function calculates the sum of two numbers \\n Imports:  \\n Code: def sum(a, b):\\n  return a + b', additional_kwargs={}, response_metadata={}, id='6eb3fb23-4400-4eb3-a6bc-9c1e22c44360'), AIMessage(content='This function calculates the sum of two numbers \\n Imports:  \\n Code: def sum(a, b):\\n  return a + b', additional_kwargs={}, response_metadata={}, id='d6c8bf4e-ff38-45f4-8623-8b0bbc47457b')], 'error': False, 'generation': [Code(prefix='This function calculates the sum of two numbers', imports='', code='def sum(a, b):\\n  return a + b')], 'iterations': 1, 'documentation': [], 'flow': ['START', 'Generate', 'Code Check: Passed']}\n"
     ]
    }
   ],
   "source": [
    "for i in graph.stream(\"write a function to calculate the sum of two numbers\"):\n",
    "    print(i)\n"
   ]
  },
  {
   "cell_type": "code",
   "execution_count": 7,
   "metadata": {},
   "outputs": [
    {
     "name": "stdout",
     "output_type": "stream",
     "text": [
      "* Running on local URL:  http://127.0.0.1:7860\n",
      "\n",
      "To create a public link, set `share=True` in `launch()`.\n"
     ]
    },
    {
     "data": {
      "text/html": [
       "<div><iframe src=\"http://127.0.0.1:7860/\" width=\"100%\" height=\"500\" allow=\"autoplay; camera; microphone; clipboard-read; clipboard-write;\" frameborder=\"0\" allowfullscreen></iframe></div>"
      ],
      "text/plain": [
       "<IPython.core.display.HTML object>"
      ]
     },
     "metadata": {},
     "output_type": "display_data"
    },
    {
     "data": {
      "text/plain": []
     },
     "execution_count": 7,
     "metadata": {},
     "output_type": "execute_result"
    }
   ],
   "source": [
    "ui = ChatUI(\n",
    "    vector_store= vector_database\n",
    ")\n",
    "\n",
    "app = ui.create_ui()\n",
    "app.launch()"
   ]
  }
 ],
 "metadata": {
  "kernelspec": {
   "display_name": "venv",
   "language": "python",
   "name": "python3"
  },
  "language_info": {
   "codemirror_mode": {
    "name": "ipython",
    "version": 3
   },
   "file_extension": ".py",
   "mimetype": "text/x-python",
   "name": "python",
   "nbconvert_exporter": "python",
   "pygments_lexer": "ipython3",
   "version": "3.12.2"
  }
 },
 "nbformat": 4,
 "nbformat_minor": 2
}
