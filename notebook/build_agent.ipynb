{
 "cells": [
  {
   "cell_type": "markdown",
   "id": "f1d12020",
   "metadata": {},
   "source": [
    "# Import"
   ]
  },
  {
   "cell_type": "code",
   "execution_count": 1,
   "id": "e756228f",
   "metadata": {},
   "outputs": [],
   "source": [
    "from langgraph.prebuilt import create_react_agent\n",
    "from langgraph_supervisor import create_supervisor"
   ]
  },
  {
   "cell_type": "code",
   "execution_count": 2,
   "id": "2cf427f3",
   "metadata": {},
   "outputs": [
    {
     "data": {
      "text/plain": [
       "True"
      ]
     },
     "execution_count": 2,
     "metadata": {},
     "output_type": "execute_result"
    }
   ],
   "source": [
    "from dotenv import load_dotenv, find_dotenv\n",
    "import sys\n",
    "import os\n",
    "\n",
    "load_dotenv(find_dotenv())\n"
   ]
  },
  {
   "cell_type": "markdown",
   "id": "8ff8de9d",
   "metadata": {},
   "source": [
    "# Graph\n"
   ]
  },
  {
   "cell_type": "code",
   "execution_count": 66,
   "id": "8bd7d520",
   "metadata": {},
   "outputs": [],
   "source": [
    "from langgraph.graph import StateGraph, START, END\n",
    "from langgraph.graph.message import MessagesState \n",
    "from langchain_core.messages import AIMessage\n",
    "import time\n",
    "from langchain_google_genai import ChatGoogleGenerativeAI\n",
    "from langchain.prompts import ChatPromptTemplate\n",
    "\n",
    "\n",
    "llm = ChatGoogleGenerativeAI(model = \"gemini-2.0-flash\")\n",
    "\n",
    "workflow = StateGraph(MessagesState)\n",
    "PROMPT_INFOR_AGENT  = \"\"\"\n",
    "\"You are a get user information agent.\n",
    "USER INFORMATION:\n",
    "- Name: Phan Van Thien\n",
    "- Age: 22\n",
    "- Occupation: AI developer\n",
    "- Location: Vietnam\n",
    "- Interests: AI, technology, programming\n",
    "- Skills: Python, machine learning, deep learning\n",
    "- Education: Bachelor's degree in Computer Science\n",
    "- Experience: 2 years in AI development\n",
    "- Languages: Vietnamese (native), English (fluent)\n",
    "INSTRUCTIONS:\n",
    "- Assist ONLY with user information-related tasks.\n",
    "- Respond ONLY with the final result of your work, do NOT include ANY other text.\"\n",
    "\"\"\"\n",
    "prompt = ChatPromptTemplate.from_messages(\n",
    "    [\n",
    "        (\"system\", PROMPT_INFOR_AGENT),\n",
    "        (\"user\", \"{messages}\"),\n",
    "    ]\n",
    ")\n",
    "chain = prompt | llm \n",
    "def get_in4 (state):  \n",
    "    messages = state.get(\"messages\", [])\n",
    "    messages = \"\\n\".join([f\"{message.role}{message.content}\" for message in messages])\n",
    "    return chain.invoke(messages)\n",
    "workflow.add_node(\"chat\",\n",
    "                lambda state: {\"messages\": [chain.invoke(state[\"messages\"])]},\n",
    "                )\n",
    "workflow.add_edge(START, \"chat\")\n",
    "workflow.add_edge(\"chat\", END)\n",
    "graph = workflow.compile(name = \"get_user_information_agent\")"
   ]
  },
  {
   "cell_type": "code",
   "execution_count": null,
   "id": "fbfe0df8",
   "metadata": {},
   "outputs": [
    {
     "name": "stdout",
     "output_type": "stream",
     "text": [
      "================================\u001b[1m Human Message \u001b[0m=================================\n",
      "\n",
      "What is user's name?\n",
      "==================================\u001b[1m Ai Message \u001b[0m==================================\n",
      "\n",
      "Phan Van Thien\n"
     ]
    }
   ],
   "source": [
    "graph_output = graph.invoke(\n",
    "    {\n",
    "        \"messages\": [\n",
    "            {\n",
    "                \"role\": \"user\",\n",
    "                \"content\": \"What is user's name?\"\n",
    "            }\n",
    "        ]\n",
    "    }\n",
    ")"
   ]
  },
  {
   "cell_type": "code",
   "execution_count": 4,
   "id": "d8f5e7d6",
   "metadata": {},
   "outputs": [],
   "source": [
    "from langchain_core.tools import tool\n",
    "# Create specialized agents\n",
    "@tool\n",
    "def add(a: float, b: float) -> float:\n",
    "    '''Add two numbers.'''\n",
    "    return a + b\n",
    "@tool\n",
    "def subtract(a: float, b: float) -> float:\n",
    "    '''Subtract two numbers.'''\n",
    "    return a - b\n",
    "@tool\n",
    "def multiply(a: float, b: float) -> float:\n",
    "    '''Multiply two numbers.'''\n",
    "    return a * b\n",
    "@tool\n",
    "def divide(a: float, b: float) -> float:\n",
    "    '''Divide two numbers.'''\n",
    "    if b == 0:\n",
    "        raise ValueError(\"Cannot divide by zero.\")\n",
    "    return a / b\n",
    "@tool\n",
    "def exponentiate(a: float, b: float) -> float:\n",
    "    '''Raise a number to the power of another.'''\n",
    "    return a ** b\n",
    "\n",
    "PROMPT_MATH_AGENT = \"\"\"\n",
    "\"You are a math agent.\n",
    "INSTRUCTIONS:\n",
    "- Assist ONLY with math-related tasks.\n",
    "- For complex expressions involving multiple operations, break them down into smaller steps.\n",
    "- Execute one operation at a time using the available tools.\n",
    "- Clearly state the intermediate results if needed.\n",
    "- After you're done with all calculations, respond to the supervisor directly.\n",
    "- Respond ONLY with the final result of your work, do NOT include ANY other text.\"\n",
    "\"\"\"\n",
    "math_agent = create_react_agent(\n",
    "    model= llm,\n",
    "    tools=[add, subtract, multiply, divide, exponentiate],\n",
    "    prompt= PROMPT_MATH_AGENT,\n",
    "    name=\"math_expert\",\n",
    ")\n",
    "math_output = math_agent.invoke({\n",
    "    \"messages\": {\n",
    "        \"role\": \"user\",\n",
    "        \"content\": \"What is 2 + 100 - 10 * 10?\"\n",
    "    }\n",
    "    })"
   ]
  },
  {
   "cell_type": "code",
   "execution_count": 5,
   "id": "004be68c",
   "metadata": {},
   "outputs": [],
   "source": [
    "from langchain_core.messages import convert_to_messages\n",
    "def pretty_print_message ( message , indent = False ) :\n",
    "    pretty_message = message . pretty_repr ( html = True )\n",
    "    if not indent :\n",
    "        print ( pretty_message )\n",
    "        return\n",
    "    indented = \"\\n\". join (\"\\t\" + c for c in pretty_message . split (\"\\n\") )\n",
    "    print ( indented )\n",
    "def pretty_print_messages ( messages , indent = False ) :\n",
    "    for message in messages :\n",
    "        pretty_print_message ( message , indent )"
   ]
  },
  {
   "cell_type": "code",
   "execution_count": 8,
   "id": "a6177027",
   "metadata": {},
   "outputs": [],
   "source": [
    "from langchain.tools.google_serper import GoogleSerperResults\n",
    "\n",
    "search = GoogleSerperResults()\n",
    "\n",
    "research_agent = create_react_agent(\n",
    "    model=llm,\n",
    "    tools=[search],\n",
    "    prompt=\"\"\"\n",
    "        You are a research assistant. \n",
    "        INSTRUCTIONS:\n",
    "        - Assist ONLY with research-related tasks.\n",
    "        - For complex queries, break them down into smaller steps.\n",
    "        - After you're done with your tasks, respond to the supervisor directly\n",
    "        - Respond ONLY with the results of your work, do NOT include ANY other text.\n",
    "    \"\"\",\n",
    "    name=\"research_assistant\",\n",
    ")\n",
    "research_agent_output = research_agent.invoke({\n",
    "    \"messages\": {\n",
    "        \"role\": \"user\",\n",
    "        \"content\": \"What is the population of France?\"\n",
    "    }\n",
    "})"
   ]
  },
  {
   "cell_type": "code",
   "execution_count": 9,
   "id": "61c1fe6a",
   "metadata": {},
   "outputs": [
    {
     "name": "stdout",
     "output_type": "stream",
     "text": [
      "\t================================\u001b[1m Human Message \u001b[0m=================================\n",
      "\t\n",
      "\tWhat is the population of France?\n",
      "\t==================================\u001b[1m Ai Message \u001b[0m==================================\n",
      "\tName: research_assistant\n",
      "\tTool Calls:\n",
      "\t  google_serper_results_json (fe62db60-b0a8-4dc5-bc6a-173bb5b857e2)\n",
      "\t Call ID: fe62db60-b0a8-4dc5-bc6a-173bb5b857e2\n",
      "\t  Args:\n",
      "\t    query: population of France\n",
      "\t=================================\u001b[1m Tool Message \u001b[0m=================================\n",
      "\tName: google_serper_results_json\n",
      "\t\n",
      "\t{'searchParameters': {'q': 'population of France', 'gl': 'us', 'hl': 'en', 'type': 'search', 'num': 10, 'engine': 'google'}, 'answerBox': {'title': 'France / Population', 'answer': '68.29 million (2023)', 'source': 'World Bank', 'sourceLink': 'http://datatopics.worldbank.org/world-development-indicators'}, 'organic': [{'title': 'France Population (2025) - Worldometer', 'link': 'https://www.worldometers.info/world-population/france-population/', 'snippet': \"The current population of France is 66,637,006 as of Tuesday, May 13, 2025 based on Worldometer's elaboration of the latest United Nations data1. France 2025 ...\", 'position': 1}, {'title': 'Demographics of France - Wikipedia', 'link': 'https://en.wikipedia.org/wiki/Demographics_of_France', 'snippet': 'In January 2022, the population of France officially reached the 68,000,000 mark. In the 2010s and until 2017, the population of France grew by 1 million ...', 'position': 2}, {'title': 'France - Wikipedia', 'link': 'https://en.wikipedia.org/wiki/France', 'snippet': '... population of over 68.6 million as of January 2025. France is a ... (including metropolitan France and overseas France and excluding Terre Adelie) (42nd).', 'sitelinks': [{'title': 'Demographics', 'link': 'https://en.wikipedia.org/wiki/Demographics_of_France'}, {'title': 'History', 'link': 'https://en.wikipedia.org/wiki/History_of_France'}, {'title': 'Name of France', 'link': 'https://en.wikipedia.org/wiki/Name_of_France'}, {'title': 'Kingdom of France', 'link': 'https://en.wikipedia.org/wiki/Kingdom_of_France'}], 'position': 3}, {'title': 'France - Population Clock - U.S. Census Bureau', 'link': 'https://www.census.gov/popclock/world/fr', 'snippet': '44.9%. A Closer Look. Source. Comparisons. Population. People per sq. km. Males per 100 females. Children per woman. Compared to the U.S.. 342.0M. 37.4. 97.3.', 'position': 4}, {'title': 'Total population in France 1982-2025 - Statista', 'link': 'https://www.statista.com/statistics/459939/population-france/', 'snippet': 'The total population of France has been increasing for years now, exceeding 68 million inhabitants in 2025. However, like most Western nations, ...', 'date': 'Feb 12, 2025', 'position': 5}, {'title': 'France Population 1950-2025 | MacroTrends', 'link': 'https://www.macrotrends.net/global-metrics/countries/fra/france/population', 'snippet': 'Total population for France in 2024 was 64,881,830, a 0.19% increase from 2023. Total population for France in 2023 was 64,756,584, a 0.2% increase from 2022.', 'sitelinks': [{'title': 'France Urban Population 1960...', 'link': 'https://www.macrotrends.net/global-metrics/countries/fra/france/urban-population'}, {'title': 'France Rural Population 1960...', 'link': 'https://www.macrotrends.net/global-metrics/countries/fra/france/rural-population'}, {'title': 'Growth Rate', 'link': 'https://www.macrotrends.net/global-metrics/countries/fra/france/population-growth-rate'}], 'position': 6}, {'title': 'France population (2025) live - Countrymeters.', 'link': 'https://countrymeters.info/en/France', 'snippet': 'As of 1 January 2025, the population of France was estimated to be 66,682,322 people. This is an increase of 0.45 % (298,726 people) compared to population of ...', 'position': 7}, {'title': 'Population, total - France - World Bank Data', 'link': 'https://data.worldbank.org/indicator/SP.POP.TOTL?locations=FR', 'snippet': 'Population, total - France ( 1 ) United Nations Population Division. World Population Prospects: 2024 Revision; ( 2 ) Statistical databases and publications ...', 'position': 8}, {'title': 'France - The World Factbook - CIA', 'link': 'https://www.cia.gov/the-world-factbook/countries/france/', 'snippet': 'Population · Nationality · Ethnic groups · Languages · Religions · Age structure · Dependency ratios · Median age.', 'sitelinks': [{'title': 'Country Factsheet', 'link': 'https://www.cia.gov/the-world-factbook/countries/france/factsheets/'}, {'title': 'View Details', 'link': 'https://www.cia.gov/the-world-factbook/countries/france/flag/'}, {'title': 'View 114 photos', 'link': 'https://www.cia.gov/the-world-factbook/countries/france/images/'}, {'title': 'Travel Facts', 'link': 'https://www.cia.gov/the-world-factbook/countries/france/travel-facts/'}], 'position': 9}], 'images': [{'title': 'Demographics of France - Wikipedia', 'imageUrl': 'https://upload.wikimedia.org/wikipedia/commons/d/d9/France_Population_Pyramid.svg', 'link': 'https://en.wikipedia.org/wiki/Demographics_of_France'}, {'title': 'Population in France 2025| Statista', 'imageUrl': 'https://www.statista.com/graphic/1/459939/population-france.jpg', 'link': 'https://www.statista.com/statistics/459939/population-france/'}, {'title': 'France data and statistics - World in maps', 'imageUrl': 'https://worldinmaps.com/wp-content/uploads/2020/06/population-pyramid-of-France.png', 'link': 'https://worldinmaps.com/country/france/'}, {'title': 'List of French departments by population - Wikipedia', 'imageUrl': 'https://upload.wikimedia.org/wikipedia/commons/8/81/French_departments_by_legal_population_%282013%29.png', 'link': 'https://en.wikipedia.org/wiki/List_of_French_departments_by_population'}, {'title': 'France - Population growth 2023| Statista', 'imageUrl': 'https://www.statista.com/graphic/1/270334/population-growth-in-france.jpg', 'link': 'https://www.statista.com/statistics/270334/population-growth-in-france/'}, {'title': 'Is France still a demographic outlier in Europe? - Population and ...', 'imageUrl': 'https://www.ined.fr/tei/XMLs/XML-34613/assets_en/icono/br/620A-ined_fig2.svg', 'link': 'https://www.ined.fr/en/publications/editions/population-and-societies/is-france-still-a-demographic-outlier-in-europe/'}, {'title': 'France Population 2021 – Country Digest', 'imageUrl': 'https://countrydigest.org/wp-content/uploads/2016/06/France-population-pyramid-1.png', 'link': 'https://countrydigest.org/france-population/'}, {'title': 'France Population, 1949 – 2023 | CEIC Data', 'imageUrl': 'https://www.ceicdata.com/datapage/charts/ipc_france_population/?type=area&from=2011-12-01&to=2022-12-01&lang=en', 'link': 'https://www.ceicdata.com/en/indicator/france/population'}, {'title': 'Demographic Prospects for France: A Downward Revision - Futuribles', 'imageUrl': 'https://www.futuribles.com/wp-content/uploads/2022/08/PopulationFranceSite.jpg', 'link': 'https://www.futuribles.com/en/les-perspectives-demographiques-de-la-france-une-r/'}], 'peopleAlsoAsk': [{'question': 'What are the top 5 largest immigrant groups in France?', 'snippet': \"In 2021, 12.7% of immigrants in France were born in Algeria; 12% in Morocco; 8.7% in Portugal; 4.6% in Tunisia; 4.2% in Italy; 3.6% in Turkey; and 3.6% in Spain. Half of France's immigrants (49.4%) come from these seven countries.\", 'title': 'How many immigrants are there in France? - The issue today - Ined', 'link': 'https://www.ined.fr/en/everything_about_population/demographic-facts-sheets/faq/how-many-immigrants-france/'}, {'question': 'Why is the UK more populated than France?', 'snippet': 'The driver of the growth over the period was migration, with natural change – the difference between births and deaths – projected to be about zero, according to the ONS. International migration for the period is expected to be 4.9 million over the 10 years.', 'title': 'UK population exceeds that of France for first time on record, ONS data ...', 'link': 'https://www.theguardian.com/world/2025/jan/28/uk-population-exceeds-that-of-france-for-first-time-on-record'}], 'relatedSearches': [{'query': 'Italy'}, {'query': 'Population of france 2022'}, {'query': 'Population of France vs UK'}, {'query': 'Population of France 2025'}, {'query': 'Population of france by race'}, {'query': 'What is the population of Paris'}, {'query': 'Currency of France'}, {'query': 'Population of france 2021'}, {'query': 'Population of Europe'}], 'credits': 1}\n",
      "\t==================================\u001b[1m Ai Message \u001b[0m==================================\n",
      "\tName: research_assistant\n",
      "\t\n",
      "\t68.29 million (2023)\n"
     ]
    }
   ],
   "source": [
    "pretty_print_messages(research_agent_output[\"messages\"], indent=True)"
   ]
  },
  {
   "cell_type": "code",
   "execution_count": 67,
   "id": "a797d1e0",
   "metadata": {},
   "outputs": [],
   "source": [
    "from langgraph_supervisor import create_supervisor\n",
    "\n",
    "supervisor = create_supervisor(\n",
    "    model = llm,\n",
    "    agents = [research_agent, math_agent, graph],\n",
    "    prompt = (\n",
    "        \"You are a supervisor managing two agents:\\n\"\n",
    "        \"- a research agent. Only Assign research-related tasks to this agent\\n\"\n",
    "        \"- a math agent. Only Assign math-related tasks to this agent\\n\"\n",
    "        \"- a get_user_information_agent. Only Assign user information-related tasks to this agent\\n\"\n",
    "        \"Assign work to one agent at a time, do not call agents in parallel.\\n\"\n",
    "        \"Only call agent to complete tasks except planning. Do not do any work yourself.\"\n",
    "        \"With complex tasks, break them down into smaller steps and solve them step by step \\n\"\n",
    "    ),\n",
    "    add_handoff_back_messages=True,\n",
    "    output_mode=\"full_history\",\n",
    ").compile()"
   ]
  },
  {
   "cell_type": "code",
   "execution_count": 69,
   "id": "71540b78",
   "metadata": {},
   "outputs": [
    {
     "data": {
      "text/plain": [
       "{'messages': [HumanMessage(content=\"Find the minimum salary of user's occupation and user's age and user's age to the min salary\", additional_kwargs={}, response_metadata={}, id='eefdf4bc-0f99-41c9-b3e2-e9af50a06ea8'),\n",
       "  AIMessage(content=\"I need to get the user's occupation and age first. I will ask the get_user_information_agent to get this information.\", additional_kwargs={'function_call': {'name': 'transfer_to_get_user_information_agent', 'arguments': '{}'}}, response_metadata={'prompt_feedback': {'block_reason': 0, 'safety_ratings': []}, 'finish_reason': 'STOP', 'safety_ratings': []}, name='supervisor', id='run--51114ebd-4b67-4249-8862-7ab6d88ece12-0', tool_calls=[{'name': 'transfer_to_get_user_information_agent', 'args': {}, 'id': '6dbacfbb-9cd6-4da2-b1e0-27816266cdc4', 'type': 'tool_call'}], usage_metadata={'input_tokens': 190, 'output_tokens': 41, 'total_tokens': 231, 'input_token_details': {'cache_read': 0}}),\n",
       "  ToolMessage(content='Successfully transferred to get_user_information_agent', name='transfer_to_get_user_information_agent', id='44d411ba-432f-45c0-b18c-db366625fab1', tool_call_id='6dbacfbb-9cd6-4da2-b1e0-27816266cdc4'),\n",
       "  AIMessage(content='AI developer, 22', additional_kwargs={}, response_metadata={'prompt_feedback': {'block_reason': 0, 'safety_ratings': []}, 'finish_reason': 'STOP', 'safety_ratings': []}, id='run--93ed67b9-4e73-4502-ad1b-a3413512e8c6-0', usage_metadata={'input_tokens': 557, 'output_tokens': 7, 'total_tokens': 564, 'input_token_details': {'cache_read': 0}}),\n",
       "  AIMessage(content='Transferring back to supervisor', additional_kwargs={}, response_metadata={'__is_handoff_back': True}, name='get_user_information_agent', id='079e471d-297a-4f03-8d0a-a4da5b7ed93e', tool_calls=[{'name': 'transfer_back_to_supervisor', 'args': {}, 'id': 'b8509693-2d94-4bbe-a97f-a3ccb895cccc', 'type': 'tool_call'}]),\n",
       "  ToolMessage(content='Successfully transferred back to supervisor', name='transfer_back_to_supervisor', id='9c2cf113-5694-4a67-ba88-c259f8d29dc8', tool_call_id='b8509693-2d94-4bbe-a97f-a3ccb895cccc'),\n",
       "  AIMessage(content=\"Okay, I have the user's occupation (AI developer) and age (22). Now I need to find the minimum salary for an AI developer and add the user's age to that salary.\\n\\nFirst, I'll find the minimum salary for an AI developer.\", additional_kwargs={'function_call': {'name': 'transfer_to_research_assistant', 'arguments': '{}'}}, response_metadata={'prompt_feedback': {'block_reason': 0, 'safety_ratings': []}, 'finish_reason': 'STOP', 'safety_ratings': []}, name='supervisor', id='run--be2f50e2-03fc-44cd-85b1-e73e4d039151-0', tool_calls=[{'name': 'transfer_to_research_assistant', 'args': {}, 'id': '53392c9c-e87d-4e8d-b709-7733fe3a56ea', 'type': 'tool_call'}], usage_metadata={'input_tokens': 249, 'output_tokens': 65, 'total_tokens': 314, 'input_token_details': {'cache_read': 0}}),\n",
       "  ToolMessage(content='Successfully transferred to research_assistant', name='transfer_to_research_assistant', id='3ccb29e3-c5c6-4e39-9aba-ece9922a3165', tool_call_id='53392c9c-e87d-4e8d-b709-7733fe3a56ea'),\n",
       "  AIMessage(content='', additional_kwargs={'function_call': {'name': 'google_serper_results_json', 'arguments': '{\"query\": \"minimum salary of AI developer at age 22\"}'}}, response_metadata={'prompt_feedback': {'block_reason': 0, 'safety_ratings': []}, 'finish_reason': 'STOP', 'safety_ratings': []}, name='research_assistant', id='run--5548c076-40e5-499f-a084-f6723f61ab64-0', tool_calls=[{'name': 'google_serper_results_json', 'args': {'query': 'minimum salary of AI developer at age 22'}, 'id': '82a42b96-9a68-43eb-ba08-cfafc802cbbe', 'type': 'tool_call'}], usage_metadata={'input_tokens': 227, 'output_tokens': 19, 'total_tokens': 246, 'input_token_details': {'cache_read': 0}}),\n",
       "  ToolMessage(content='{\\'searchParameters\\': {\\'q\\': \\'minimum salary of AI developer at age 22\\', \\'gl\\': \\'us\\', \\'hl\\': \\'en\\', \\'type\\': \\'search\\', \\'num\\': 10, \\'engine\\': \\'google\\'}, \\'organic\\': [{\\'title\\': \\'What Is A AI Developer? Required Skills, Salary, & More! - Skillcrush\\', \\'link\\': \\'https://skillcrush.com/tech-jobs/ai-developer/\\', \\'snippet\\': \\'Although salaries can range by location and years of experience, the average salary for AI Developer in the US is $101,893.00 according to Salary.com. Is a AI ...\\', \\'attributes\\': {\\'Missing\\': \\'minimum | Show results with:minimum\\'}, \\'position\\': 1}, {\\'title\\': \\'[D] How much does everyone make doing AI? I make $140k. - Reddit\\', \\'link\\': \\'https://www.reddit.com/r/MachineLearning/comments/17r10fp/d_how_much_does_everyone_make_doing_ai_i_make_140k/\\', \\'snippet\\': \\'I doubt salaries online too. Our fresh grad pay is about 40k - 50k USD annually. Plus most of the salaries online come from big tech and from ...\\', \\'date\\': \\'Nov 9, 2023\\', \\'attributes\\': {\\'Missing\\': \\'age | Show results with:age\\'}, \\'sitelinks\\': [{\\'title\\': \\'Suggested Salary Range for Entry Level AI Engineer\\', \\'link\\': \\'https://www.reddit.com/r/cscareerquestions/comments/ezt0bf/suggested_salary_range_for_entry_level_ai_engineer/\\'}, {\\'title\\': \\'Age 22 : r/Salary\\', \\'link\\': \\'https://www.reddit.com/r/Salary/comments/1ipyxdx/age_22/\\'}], \\'position\\': 2}, {\\'title\\': \\'Ai Developer Salaries 2025 | $139k-$459k - 6figr.com\\', \\'link\\': \\'https://6figr.com/us/salary/ai-developer--t\\', \\'snippet\\': \\'Employees as Ai Developer earn an average of $196k, mostly ranging from $139k per year to $447k per year based on 33 profiles.\\', \\'date\\': \\'Apr 9, 2025\\', \\'attributes\\': {\\'Missing\\': \\'minimum | Show results with:minimum\\'}, \\'position\\': 3}, {\\'title\\': \\'Entry Level Artificial Intelligence Engineer Salary - ZipRecruiter\\', \\'link\\': \\'https://www.ziprecruiter.com/Salaries/Entry-Level-Artificial-Intelligence-Engineer-Salary\\', \\'snippet\\': \"The average ENTRY LEVEL ARTIFICIAL INTELLIGENCE ENGINEER SALARY in the US as of April 2025 is $33.35 an hour or $69362 per year. Get paid what you\\'re worth!\", \\'attributes\\': {\\'Missing\\': \\'age 22\\'}, \\'position\\': 4}, {\\'title\\': \\'What is the average salary for someone working in artificial ... - Quora\\', \\'link\\': \\'https://www.quora.com/What-is-the-average-salary-for-someone-working-in-artificial-intelligence-Is-it-worth-learning-about-AI-or-not-why-Whats-your-opinion-on-this-subject\\', \\'snippet\\': \\'Salary — it depends on the work experience and knowledge gain on ML/DL. And the educational institute too. I can say for a resource of 1–3 years ...\\', \\'date\\': \\'Dec 12, 2023\\', \\'sitelinks\\': [{\\'title\\': \\'What is the average salary for a senior AI developer? - Quora\\', \\'link\\': \\'https://www.quora.com/What-is-the-average-salary-for-a-senior-AI-developer\\'}, {\\'title\\': \"I\\'m 22 years old, can I still make a career in programming, I ... - Quora\", \\'link\\': \\'https://www.quora.com/Im-22-years-old-can-I-still-make-a-career-in-programming-I-dont-have-a-Computer-Science-degree-but-I-love-programming-so-much\\'}], \\'position\\': 5}, {\\'title\\': \\'AI Developer Salaries: How Much Should I Expect to Earn? - Obsidi\\', \\'link\\': \\'https://obsidi.com/ai-developer-salary/\\', \\'snippet\\': \\'Senior-level AI developers earn an average salary of $175,000 in the USA and $174,661 in Canada. There is a likelihood of variance here ...\\', \\'date\\': \\'Oct 25, 2024\\', \\'attributes\\': {\\'Missing\\': \\'age | Show results with:age\\'}, \\'position\\': 6}, {\\'title\\': \\'How to Become an AI Engineer & Get Hired in 2025 | Zero To Mastery\\', \\'link\\': \\'https://zerotomastery.io/blog/how-to-become-an-ai-engineer-from-scratch/\\', \\'snippet\\': \\'However, according to ZipRecruiter, the average salary for an AI Engineer in the US is $101,752, and Senior AI Engineers get around $126,557 per year. AI ...\\', \\'position\\': 7}, {\\'title\\': \\'2025 Software Engineer Salary in US - Built In\\', \\'link\\': \\'https://builtin.com/salaries/us/software-engineer\\', \\'snippet\\': \\'The average salary for a Software Engineer in US is $137,311. The average additional cash compensation for a Software Engineer in US is $18,813. The average ...\\', \\'position\\': 8}, {\\'title\\': \\'Salary: Junior Ai Developer (May, 2025) United States - ZipRecruiter\\', \\'link\\': \\'https://www.ziprecruiter.com/Salaries/Junior-Ai-Developer-Salary\\', \\'snippet\\': \"The average JUNIOR AI DEVELOPER SALARY in the United States as of April 2025 is $42.78 an hour or $88976 per year. Get paid what you\\'re worth!\", \\'attributes\\': {\\'Missing\\': \\'age | Show results with:age\\'}, \\'position\\': 9}, {\\'title\\': \"I\\'m 34 years old with 12 years of experience in IT. My current ...\", \\'link\\': \\'https://indianitindustry.quora.com/Im-34-years-old-with-12-years-of-experience-in-IT-My-current-package-is-22-LPA-Is-it-less-average-or-more\\', \\'snippet\\': \\'Based on the information you provided, your current package of 22 LPA (Lakhs Per Annum) seems to be above the average for someone with 12 years of experience ...\\', \\'date\\': \\'Oct 25, 2023\\', \\'position\\': 10}], \\'peopleAlsoAsk\\': [{\\'question\\': \\'How much do beginner AI developers make?\\', \\'snippet\\': \\'While ZipRecruiter is seeing annual salaries as high as $118,000 and as low as $30,000, the majority of Entry Level Artificial Intelligence Engineer salaries currently range between $51,500 (25th percentile) to $78,500 (75th percentile) with top earners (90th percentile) making $102,500 annually across the United ...\\', \\'title\\': \\'Entry Level Artificial Intelligence Engineer Salary - ZipRecruiter\\', \\'link\\': \\'https://www.ziprecruiter.com/Salaries/Entry-Level-Artificial-Intelligence-Engineer-Salary\\'}, {\\'question\\': \\'What is the salary of a beginner AI engineer?\\', \\'snippet\\': \\'Entry-Level AI Engineer Salary: Freshers or entry-level AI engineers with less than 1-2 years of experience can expect to earn between ₹5,00,000 to ₹12,00,000 annually.\\', \\'title\\': \\'AI Engineer Salary, Demand and Career In India - Updated 2025\\', \\'link\\': \\'https://www.madridsoftwaretrainings.com/ai-engineer-salary-in-india\\'}, {\\'question\\': \\'What is the salary of AI software developer?\\', \\'snippet\\': \\'The estimated total pay for a Ai Software Developer is ₹5,79,824 per year, with an average salary of ₹5,00,000 per year.\\', \\'title\\': \\'Salary: Ai Software Developer in India 2025 - Glassdoor\\', \\'link\\': \\'https://www.glassdoor.co.in/Salaries/ai-software-developer-salary-SRCH_KO0,21.htm\\'}, {\\'question\\': \\'How much does a junior AI developer earn in US?\\', \\'snippet\\': \\'Junior Ai Developer Salary\\\\nAnnual Salary\\\\nHourly Wage\\\\nTop Earners\\\\n$116,000\\\\n$55\\\\n75th Percentile\\\\n$87,000\\\\n$42\\\\nAverage\\\\n$88,976\\\\n$43\\\\n25th Percentile\\\\n$67,000\\\\n$32\\', \\'title\\': \\'Salary: Junior Ai Developer (May, 2025) United States - ZipRecruiter\\', \\'link\\': \\'https://www.ziprecruiter.com/Salaries/Junior-Ai-Developer-Salary\\'}], \\'relatedSearches\\': [{\\'query\\': \\'Minimum salary of ai developer at age 22 reddit\\'}, {\\'query\\': \\'Minimum salary of ai developer at age 22 in usa\\'}, {\\'query\\': \\'Minimum salary of ai developer at age 22 for freshers\\'}, {\\'query\\': \\'Artificial Intelligence salary per month\\'}, {\\'query\\': \\'Entry level AI developer salary\\'}, {\\'query\\': \\'AI Engineer salary\\'}, {\\'query\\': \\'Ai developer salary in us per month\\'}, {\\'query\\': \\'AI Developer jobs\\'}], \\'credits\\': 1}', name='google_serper_results_json', id='bed1e9a5-e5dd-41e5-925d-58614bff8c18', tool_call_id='82a42b96-9a68-43eb-ba08-cfafc802cbbe'),\n",
       "  AIMessage(content=\"The search results indicate a wide range of salaries for AI developers.\\n\\n*   **Skillcrush:** Average salary for AI Developer in the US is $101,893.00.\\n*   **Reddit:** Mentions fresh grad pay around $40k - $50k USD annually.\\n*   **6figr.com:** Average salary of $196k, mostly ranging from $139k to $447k per year.\\n*   **ZipRecruiter:** Average entry-level AI Engineer salary is $69,362 per year.\\n*   **ZipRecruiter:** Average Junior AI Developer salary is $88,976 per year.\\n\\nConsidering these sources, a reasonable estimate for the *minimum* salary for an AI developer at age 22 would be around **$40,000 - $50,000**. However, it's important to note that this could be higher depending on location, specific skills, and the company.\", additional_kwargs={}, response_metadata={'prompt_feedback': {'block_reason': 0, 'safety_ratings': []}, 'finish_reason': 'STOP', 'safety_ratings': []}, name='research_assistant', id='run--6986b8ec-12b2-4f16-b82b-4be4d31f3726-0', usage_metadata={'input_tokens': 2479, 'output_tokens': 218, 'total_tokens': 2697, 'input_token_details': {'cache_read': 0}}),\n",
       "  AIMessage(content='Transferring back to supervisor', additional_kwargs={}, response_metadata={'__is_handoff_back': True}, name='research_assistant', id='1effd3eb-2a35-4de4-9d82-d8af89aa80c6', tool_calls=[{'name': 'transfer_back_to_supervisor', 'args': {}, 'id': 'a28a292d-3b73-49fe-97cd-b12ba17a7f98', 'type': 'tool_call'}]),\n",
       "  ToolMessage(content='Successfully transferred back to supervisor', name='transfer_back_to_supervisor', id='e62dc19b-de43-4059-be2d-325ab051d82a', tool_call_id='a28a292d-3b73-49fe-97cd-b12ba17a7f98'),\n",
       "  AIMessage(content=\"The minimum salary is $40,000. Add user's age to the min salary\", additional_kwargs={'function_call': {'name': 'transfer_to_math_expert', 'arguments': '{}'}}, response_metadata={'prompt_feedback': {'block_reason': 0, 'safety_ratings': []}, 'finish_reason': 'STOP', 'safety_ratings': []}, name='supervisor', id='run--ae95dd2d-0b49-4dd8-a794-79278c5b70d6-0', tool_calls=[{'name': 'transfer_to_math_expert', 'args': {}, 'id': 'bae9088a-87f1-4c84-bfcc-5e1c4bd78028', 'type': 'tool_call'}], usage_metadata={'input_tokens': 2759, 'output_tokens': 29, 'total_tokens': 2788, 'input_token_details': {'cache_read': 0}}),\n",
       "  ToolMessage(content='Successfully transferred to math_expert', name='transfer_to_math_expert', id='ee0cc8c9-7258-44f6-9b73-1171b3682cf8', tool_call_id='bae9088a-87f1-4c84-bfcc-5e1c4bd78028'),\n",
       "  AIMessage(content=\"Based on the research, let's assume the minimum salary is $40,000. I will now add the user's age (22) to this salary.\", additional_kwargs={'function_call': {'name': 'add', 'arguments': '{\"a\": 40000.0, \"b\": 22.0}'}}, response_metadata={'prompt_feedback': {'block_reason': 0, 'safety_ratings': []}, 'finish_reason': 'STOP', 'safety_ratings': []}, name='math_expert', id='run--a82b180e-6744-4f0c-af68-f1c66505dc51-0', tool_calls=[{'name': 'add', 'args': {'a': 40000.0, 'b': 22.0}, 'id': '936d2f31-6329-48d0-b1db-f2bf400d111a', 'type': 'tool_call'}], usage_metadata={'input_tokens': 2778, 'output_tokens': 44, 'total_tokens': 2822, 'input_token_details': {'cache_read': 0}}),\n",
       "  ToolMessage(content='40022.0', name='add', id='2ae9cc27-a3de-4d4e-a1e2-0c12b49c55ef', tool_call_id='936d2f31-6329-48d0-b1db-f2bf400d111a'),\n",
       "  AIMessage(content='40022', additional_kwargs={}, response_metadata={'prompt_feedback': {'block_reason': 0, 'safety_ratings': []}, 'finish_reason': 'STOP', 'safety_ratings': []}, name='math_expert', id='run--e61d1cd9-ba49-40e9-9cf0-917c606f8124-0', usage_metadata={'input_tokens': 2786, 'output_tokens': 6, 'total_tokens': 2792, 'input_token_details': {'cache_read': 0}}),\n",
       "  AIMessage(content='Transferring back to supervisor', additional_kwargs={}, response_metadata={'__is_handoff_back': True}, name='math_expert', id='15fe5a63-0ec2-4ea3-9ad6-12e6846700c4', tool_calls=[{'name': 'transfer_back_to_supervisor', 'args': {}, 'id': '5eda84c1-1a50-4a5a-8443-7e5cb9fa4847', 'type': 'tool_call'}]),\n",
       "  ToolMessage(content='Successfully transferred back to supervisor', name='transfer_back_to_supervisor', id='f094928e-0f66-4324-8458-892febd88ce9', tool_call_id='5eda84c1-1a50-4a5a-8443-7e5cb9fa4847'),\n",
       "  AIMessage(content='The minimum salary of an AI developer at age 22 is approximately $40,000. Adding the age (22) to this salary, we get $40,022.', additional_kwargs={}, response_metadata={'prompt_feedback': {'block_reason': 0, 'safety_ratings': []}, 'finish_reason': 'STOP', 'safety_ratings': []}, name='supervisor', id='run--8b05977a-9bfb-43b8-aeaf-df036f3062e7-0', usage_metadata={'input_tokens': 2813, 'output_tokens': 43, 'total_tokens': 2856, 'input_token_details': {'cache_read': 0}})]}"
      ]
     },
     "execution_count": 69,
     "metadata": {},
     "output_type": "execute_result"
    }
   ],
   "source": [
    "output = supervisor.invoke(\n",
    "    {\n",
    "        \"messages\": [\n",
    "            {\n",
    "                \"role\": \"user\",\n",
    "                \"content\": \"Find the minimum salary of user's occupation and user's age and user's age to the min salary\"\n",
    "            }\n",
    "        ]\n",
    "    }\n",
    ")\n",
    "output"
   ]
  }
 ],
 "metadata": {
  "kernelspec": {
   "display_name": "venv",
   "language": "python",
   "name": "python3"
  },
  "language_info": {
   "codemirror_mode": {
    "name": "ipython",
    "version": 3
   },
   "file_extension": ".py",
   "mimetype": "text/x-python",
   "name": "python",
   "nbconvert_exporter": "python",
   "pygments_lexer": "ipython3",
   "version": "3.12.2"
  }
 },
 "nbformat": 4,
 "nbformat_minor": 5
}
